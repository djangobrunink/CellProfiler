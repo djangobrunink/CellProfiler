{
 "cells": [
  {
   "cell_type": "markdown",
   "metadata": {},
   "source": [
    "# Model"
   ]
  },
  {
   "cell_type": "code",
   "execution_count": 1,
   "metadata": {},
   "outputs": [],
   "source": [
    "import json\n",
    "import os\n",
    "import numpy as np\n",
    "import torch\n",
    "from PIL import Image\n",
    "import matplotlib.pyplot as plt\n",
    "from pathlib import Path\n",
    "import pprint\n",
    "import itertools\n",
    "import matplotlib.patches as patches\n",
    "import pycocotools.mask as mask_util\n",
    "from typing import List\n",
    "from sklearn.model_selection import train_test_split\n",
    "import functools\n",
    "from fastai2.vision.all import *\n",
    "\n",
    "\n",
    "dataset_root = Path(\"../dataset\")\n",
    "annotations_path = dataset_root / \"via_region_data_fish_type.json\"\n",
    "pp = pprint.PrettyPrinter(indent=2)"
   ]
  },
  {
   "cell_type": "code",
   "execution_count": 2,
   "metadata": {},
   "outputs": [
    {
     "data": {
      "text/plain": [
       "(40, 14)"
      ]
     },
     "execution_count": 2,
     "metadata": {},
     "output_type": "execute_result"
    }
   ],
   "source": [
    "with open(annotations_path) as f:\n",
    "    annotations_data = list(json.load(f).values())\n",
    "annotations_data_train, annotations_data_test = train_test_split(annotations_data, test_size=0.25)\n",
    "len(annotations_data_train), len(annotations_data_test)"
   ]
  },
  {
   "cell_type": "code",
   "execution_count": 3,
   "metadata": {},
   "outputs": [],
   "source": [
    "def polygons_to_bitmask(polygons: List[np.ndarray], height: int, width: int) -> np.ndarray:\n",
    "    assert len(polygons) > 0, \"COCOAPI does not support empty polygons\"\n",
    "    rles = mask_util.frPyObjects(polygons, height, width)\n",
    "    rle = mask_util.merge(rles)\n",
    "    return mask_util.decode(rle).astype(np.bool)\n"
   ]
  },
  {
   "cell_type": "code",
   "execution_count": 4,
   "metadata": {},
   "outputs": [],
   "source": [
    "class FishDataset(object):\n",
    "    def __init__(self, root, annotations_data, transforms = None):\n",
    "        self.root = root\n",
    "        self.annotations_data = list(annotations_data)\n",
    "        self.transforms = transforms\n",
    "\n",
    "\n",
    "       \n",
    "        \n",
    "    def __getitem__(self, index):\n",
    "        image, target = self._get(index)\n",
    "        \n",
    "        if self.transforms is not None:\n",
    "            image, target = self.transforms(image, target)\n",
    "        \n",
    "        return image, target\n",
    "        \n",
    "    @functools.lru_cache(1000)\n",
    "    def _get(self, index):\n",
    "        data = self.annotations_data[index]\n",
    "        file_path = data[\"filename\"]\n",
    "        image = Image.open(self.root / file_path).convert(\"RGB\")\n",
    "        \n",
    "        boxes = []\n",
    "        polygons = []\n",
    "        labels = []\n",
    "        masks = []\n",
    "        \n",
    "        for region in data[\"regions\"]:\n",
    "            shape_attributes = region[\"shape_attributes\"]\n",
    "            px = shape_attributes[\"all_points_x\"]\n",
    "            py = shape_attributes[\"all_points_y\"]\n",
    "            \n",
    "            poly = [[x, y] for x, y in zip(px, py)]\n",
    "            poly = [list(itertools.chain.from_iterable(poly))]\n",
    "            mask = np.uint8(polygons_to_bitmask(poly, image.height, image.width))\n",
    "            \n",
    "            box = [min(px), min(py), max(px), max(py)]\n",
    "            \n",
    "            category_id = 1 #TODO\n",
    "            \n",
    "            boxes.append(box)\n",
    "            masks.append(mask)\n",
    "            labels.append(category_id)\n",
    "           \n",
    "        boxes = torch.as_tensor(boxes, dtype=torch.float32)\n",
    "        labels = torch.as_tensor(labels, dtype=torch.int64)\n",
    "        masks = torch.as_tensor(masks, dtype=torch.uint8)\n",
    "        image_id =  torch.tensor([index])\n",
    "    \n",
    "        areas = (boxes[:, 3] - boxes[:, 1]) * (boxes[:, 2] - boxes[:, 0])\n",
    "        target = {\n",
    "            \"boxes\": boxes,\n",
    "            \"labels\": labels,\n",
    "            \"masks\": masks,\n",
    "            \"image_id\": image_id,\n",
    "            \"area\": areas,\n",
    "            \"iscrowd\": torch.zeros((len(labels),), dtype=torch.int64)\n",
    "        }\n",
    "        \n",
    "        return image, target\n",
    "    \n",
    "    \n",
    "    def __len__(self):\n",
    "        return len(self.annotations_data)"
   ]
  },
  {
   "cell_type": "code",
   "execution_count": 5,
   "metadata": {},
   "outputs": [],
   "source": [
    "def plot_item(image, target):\n",
    "    image = np.array(image)\n",
    "    print(image.shape)\n",
    "    \n",
    "\n",
    "    ax = plt.axes()\n",
    "    ax.imshow(image)\n",
    "    \n",
    "\n",
    "    for xmin, ymin, xmax, ymax in target[\"boxes\"]:\n",
    "        rect = patches.Rectangle((xmin, ymin), xmax - xmin, ymax - ymin,linewidth=1,edgecolor='r',facecolor='none')\n",
    "        ax.add_patch(rect)\n",
    "        \n",
    "    draw_mask = np.zeros(target[\"masks\"][0].shape)\n",
    "    for mask in target[\"masks\"]:\n",
    "        mask = np.array(mask)\n",
    "        draw_mask += mask\n",
    "    \n",
    "    plt.imshow(draw_mask > 0, 'gray', interpolation='none', alpha=.5)"
   ]
  },
  {
   "cell_type": "code",
   "execution_count": 6,
   "metadata": {},
   "outputs": [
    {
     "name": "stdout",
     "output_type": "stream",
     "text": [
      "(1086, 1080, 3)\n"
     ]
    },
    {
     "data": {
      "image/png": "[encoded data removed]",
      "text/plain": [
       "<Figure size 432x288 with 1 Axes>"
      ]
     },
     "metadata": {
      "needs_background": "light"
     },
     "output_type": "display_data"
    }
   ],
   "source": [
    "dataset = FishDataset(dataset_root, annotations_data_train)\n",
    "image, target = dataset[0]\n",
    "image, target = dataset[35]\n",
    "plot_item(image, target)"
   ]
  },
  {
   "cell_type": "code",
   "execution_count": 7,
   "metadata": {},
   "outputs": [],
   "source": [
    "import torchvision\n",
    "from torchvision.models.detection.faster_rcnn import FastRCNNPredictor\n",
    "from torchvision.models.detection.mask_rcnn import MaskRCNNPredictor\n",
    "\n",
    "\n",
    "def create_model(num_classes):\n",
    "    model = torchvision.models.detection.maskrcnn_resnet50_fpn(pretrained=True)\n",
    "    in_features = model.roi_heads.box_predictor.cls_score.in_features\n",
    "    # Replace the pre-trained head\n",
    "    model.roi_heads.box_predictor = FastRCNNPredictor(in_features, num_classes)\n",
    "    in_features_mask = model.roi_heads.mask_predictor.conv5_mask.in_channels      \n",
    "    hidden_layer = 256\n",
    "    model.roi_heads.mask_predictor = MaskRCNNPredictor(\n",
    "        in_features_mask,\n",
    "        hidden_layer,\n",
    "        num_classes\n",
    "    )                               \n",
    "    return model\n",
    "    "
   ]
  },
  {
   "cell_type": "code",
   "execution_count": 8,
   "metadata": {},
   "outputs": [],
   "source": [
    "import detection.transforms as T\n",
    "\n",
    "def get_transform(train=False):\n",
    "    transforms = []\n",
    "    transforms.append(T.ToTensor())\n",
    "    if train:\n",
    "        transforms.append(T.RandomHorizontalFlip(0.5))\n",
    "    \n",
    "    return T.Compose(transforms)\n",
    "\n",
    "dataset = FishDataset(dataset_root, annotations_data,  get_transform())"
   ]
  },
  {
   "cell_type": "code",
   "execution_count": 9,
   "metadata": {},
   "outputs": [],
   "source": [
    "import detection.utils as utils\n",
    "data_loader = torch.utils.data.DataLoader(\n",
    "    dataset, \n",
    "    batch_size=2, \n",
    "    shuffle=True, \n",
    "    num_workers=4,\n",
    "    collate_fn=utils.collate_fn\n",
    ")\n"
   ]
  },
  {
   "cell_type": "code",
   "execution_count": 10,
   "metadata": {},
   "outputs": [
    {
     "name": "stderr",
     "output_type": "stream",
     "text": [
      "/home/jordi/anaconda3/envs/pytorch/lib/python3.8/site-packages/torch/nn/functional.py:2854: UserWarning: The default behavior for interpolate/upsample with float scale_factor will change in 1.6.0 to align with other frameworks/libraries, and use scale_factor directly, instead of relying on the computed output size. If you wish to keep the old behavior, please set recompute_scale_factor=True. See the documentation of nn.Upsample for details. \n",
      "  warnings.warn(\"The default behavior for interpolate/upsample with float scale_factor will change \"\n",
      "/opt/conda/conda-bld/pytorch_1591914858187/work/torch/csrc/utils/python_arg_parser.cpp:756: UserWarning: This overload of nonzero is deprecated:\n",
      "\tnonzero(Tensor input, *, Tensor out)\n",
      "Consider using one of the following signatures instead:\n",
      "\tnonzero(Tensor input, *, bool as_tuple)\n"
     ]
    },
    {
     "data": {
      "text/plain": [
       "{'loss_classifier': tensor(0.7575, grad_fn=<NllLossBackward>),\n",
       " 'loss_box_reg': tensor(0.6769, grad_fn=<DivBackward0>),\n",
       " 'loss_mask': tensor(3.2745, grad_fn=<BinaryCrossEntropyWithLogitsBackward>),\n",
       " 'loss_objectness': tensor(0.1947, grad_fn=<BinaryCrossEntropyWithLogitsBackward>),\n",
       " 'loss_rpn_box_reg': tensor(0.1147, grad_fn=<DivBackward0>)}"
      ]
     },
     "execution_count": 10,
     "metadata": {},
     "output_type": "execute_result"
    }
   ],
   "source": [
    "num_classes = 2\n",
    "\n",
    "model = create_model(num_classes)\n",
    "\n",
    "images,targets = next(iter(data_loader))\n",
    "images = list(image for image in images)\n",
    "targets = [{k: v for k, v in t.items()} for t in targets]\n",
    "output = model(images,targets)\n",
    "output"
   ]
  },
  {
   "cell_type": "code",
   "execution_count": 11,
   "metadata": {},
   "outputs": [],
   "source": [
    "def params_splitter(model):\n",
    "    return [params(model.backbone), params(model.rpn), params(model.roi_heads)]"
   ]
  },
  {
   "cell_type": "code",
   "execution_count": 12,
   "metadata": {},
   "outputs": [
    {
     "name": "stdout",
     "output_type": "stream",
     "text": [
      "cuda\n"
     ]
    }
   ],
   "source": [
    "from detection.engine import train_one_epoch, evaluate\n",
    "\n",
    "device = torch.device('cuda') if torch.cuda.is_available() else torch.device('cpu')\n",
    "print(device)\n",
    "\n",
    "# our dataset has two classes only - background and person\n",
    "num_classes = 2\n",
    "# use our dataset and defined transformations\n",
    "dataset = FishDataset(dataset_root, annotations_data_train,  get_transform(train=True))\n",
    "dataset_test = FishDataset(dataset_root, annotations_data_test,  get_transform())\n",
    "\n",
    "# split the dataset in train and test set\n",
    "#indices = torch.randperm(len(dataset)).tolist()\n",
    "#dataset = torch.utils.data.Subset(dataset, indices[:-50])\n",
    "#dataset_test = torch.utils.data.Subset(dataset_test, indices[-50:])\n",
    "\n",
    "# define training and validation data loaders\n",
    "data_loader = torch.utils.data.DataLoader(\n",
    "    dataset, batch_size=3, shuffle=True, num_workers=4,\n",
    "    collate_fn=utils.collate_fn)\n",
    "\n",
    "data_loader_test = torch.utils.data.DataLoader(\n",
    "    dataset_test, batch_size=5, shuffle=False, num_workers=4,\n",
    "    collate_fn=utils.collate_fn)\n",
    "\n",
    "# get the model using our helper function\n",
    "model = create_model(num_classes)\n",
    "parameter_groups = params_splitter(model)\n",
    "for o in parameter_groups[0] + parameter_groups[1]:\n",
    "    o.requires_grad = False\n",
    "\n",
    "# move model to the right device\n",
    "model.to(device)\n",
    "\n",
    "# construct an optimizer\n",
    "opt_params = [p for p in model.parameters() if p.requires_grad]\n",
    "#optimizer = torch.optim.SGD(params, lr=0.005,\n",
    "#                            momentum=0.9, weight_decay=0.0005)\n",
    "\n",
    "optimizer = torch.optim.Adam(opt_params, lr=0.00017575106248547893)\n",
    "# and a learning rate scheduler\n",
    "#lr_scheduler = torch.optim.lr_scheduler.StepLR(optimizer,\n",
    "#                                               step_size=3,\n",
    "#                                               gamma=0.1)\n",
    "\n"
   ]
  },
  {
   "cell_type": "code",
   "execution_count": null,
   "metadata": {},
   "outputs": [
    {
     "name": "stdout",
     "output_type": "stream",
     "text": [
      "Epoch: [0]  [ 0/14]  eta: 0:01:57  lr: 0.000014  loss: 0.9387 (0.9387)  loss_classifier: 0.2103 (0.2103)  loss_box_reg: 0.3098 (0.3098)  loss_mask: 0.2627 (0.2627)  loss_objectness: 0.0912 (0.0912)  loss_rpn_box_reg: 0.0647 (0.0647)  time: 8.3815  data: 7.9690  max mem: 6050\n",
      "Epoch: [0]  [10/14]  eta: 0:00:06  lr: 0.000149  loss: 0.8704 (0.9181)  loss_classifier: 0.1778 (0.1809)  loss_box_reg: 0.2625 (0.2599)  loss_mask: 0.2936 (0.3022)  loss_objectness: 0.0597 (0.1003)  loss_rpn_box_reg: 0.0673 (0.0748)  time: 1.7248  data: 1.3017  max mem: 6050\n",
      "Epoch: [0]  [13/14]  eta: 0:00:01  lr: 0.000176  loss: 0.8568 (0.9139)  loss_classifier: 0.1778 (0.1835)  loss_box_reg: 0.2475 (0.2574)  loss_mask: 0.2826 (0.3001)  loss_objectness: 0.0597 (0.0957)  loss_rpn_box_reg: 0.0760 (0.0771)  time: 1.8757  data: 1.3769  max mem: 6050\n",
      "Epoch: [0] Total time: 0:00:26 (1.8828 s / it)\n",
      "creating index...\n",
      "index created!\n",
      "Test:  [0/3]  eta: 0:00:05  model_time: 0.7720 (0.7720)  evaluator_time: 0.5781 (0.5781)  time: 1.7396  data: 0.3741  max mem: 6050\n",
      "Test:  [2/3]  eta: 0:00:01  model_time: 0.7720 (0.7519)  evaluator_time: 0.5781 (0.5638)  time: 1.4763  data: 0.1328  max mem: 6050\n",
      "Test: Total time: 0:00:04 (1.5057 s / it)\n",
      "Averaged stats: model_time: 0.7720 (0.7519)  evaluator_time: 0.5781 (0.5638)\n",
      "Accumulating evaluation results...\n",
      "DONE (t=0.01s).\n",
      "Accumulating evaluation results...\n",
      "DONE (t=0.01s).\n",
      "IoU metric: bbox\n",
      " Average Precision  (AP) @[ IoU=0.50:0.95 | area=   all | maxDets=100 ] = 0.000\n",
      " Average Precision  (AP) @[ IoU=0.50      | area=   all | maxDets=100 ] = 0.000\n",
      " Average Precision  (AP) @[ IoU=0.75      | area=   all | maxDets=100 ] = 0.000\n",
      " Average Precision  (AP) @[ IoU=0.50:0.95 | area= small | maxDets=100 ] = -1.000\n",
      " Average Precision  (AP) @[ IoU=0.50:0.95 | area=medium | maxDets=100 ] = 0.000\n",
      " Average Precision  (AP) @[ IoU=0.50:0.95 | area= large | maxDets=100 ] = 0.000\n",
      " Average Recall     (AR) @[ IoU=0.50:0.95 | area=   all | maxDets=  1 ] = 0.000\n",
      " Average Recall     (AR) @[ IoU=0.50:0.95 | area=   all | maxDets= 10 ] = 0.000\n",
      " Average Recall     (AR) @[ IoU=0.50:0.95 | area=   all | maxDets=100 ] = 0.000\n",
      " Average Recall     (AR) @[ IoU=0.50:0.95 | area= small | maxDets=100 ] = -1.000\n",
      " Average Recall     (AR) @[ IoU=0.50:0.95 | area=medium | maxDets=100 ] = 0.000\n",
      " Average Recall     (AR) @[ IoU=0.50:0.95 | area= large | maxDets=100 ] = 0.000\n",
      "IoU metric: segm\n",
      " Average Precision  (AP) @[ IoU=0.50:0.95 | area=   all | maxDets=100 ] = 0.493\n",
      " Average Precision  (AP) @[ IoU=0.50      | area=   all | maxDets=100 ] = 0.913\n",
      " Average Precision  (AP) @[ IoU=0.75      | area=   all | maxDets=100 ] = 0.614\n",
      " Average Precision  (AP) @[ IoU=0.50:0.95 | area= small | maxDets=100 ] = -1.000\n",
      " Average Precision  (AP) @[ IoU=0.50:0.95 | area=medium | maxDets=100 ] = 0.023\n",
      " Average Precision  (AP) @[ IoU=0.50:0.95 | area= large | maxDets=100 ] = 0.513\n",
      " Average Recall     (AR) @[ IoU=0.50:0.95 | area=   all | maxDets=  1 ] = 0.068\n",
      " Average Recall     (AR) @[ IoU=0.50:0.95 | area=   all | maxDets= 10 ] = 0.507\n",
      " Average Recall     (AR) @[ IoU=0.50:0.95 | area=   all | maxDets=100 ] = 0.557\n",
      " Average Recall     (AR) @[ IoU=0.50:0.95 | area= small | maxDets=100 ] = -1.000\n",
      " Average Recall     (AR) @[ IoU=0.50:0.95 | area=medium | maxDets=100 ] = 0.600\n",
      " Average Recall     (AR) @[ IoU=0.50:0.95 | area= large | maxDets=100 ] = 0.556\n",
      "Epoch: [1]  [ 0/14]  eta: 0:02:37  lr: 0.000176  loss: 0.9570 (0.9570)  loss_classifier: 0.1855 (0.1855)  loss_box_reg: 0.3025 (0.3025)  loss_mask: 0.3168 (0.3168)  loss_objectness: 0.0633 (0.0633)  loss_rpn_box_reg: 0.0890 (0.0890)  time: 11.2491  data: 9.9499  max mem: 6050\n",
      "Epoch: [1]  [10/14]  eta: 0:00:07  lr: 0.000176  loss: 0.8145 (0.8233)  loss_classifier: 0.1686 (0.1654)  loss_box_reg: 0.2334 (0.2356)  loss_mask: 0.2695 (0.2734)  loss_objectness: 0.0633 (0.0767)  loss_rpn_box_reg: 0.0797 (0.0723)  time: 1.8623  data: 1.2522  max mem: 6050\n",
      "Epoch: [1]  [13/14]  eta: 0:00:01  lr: 0.000176  loss: 0.7716 (0.7947)  loss_classifier: 0.1610 (0.1608)  loss_box_reg: 0.2104 (0.2275)  loss_mask: 0.2466 (0.2576)  loss_objectness: 0.0633 (0.0775)  loss_rpn_box_reg: 0.0790 (0.0714)  time: 1.7191  data: 1.1817  max mem: 6050\n",
      "Epoch: [1] Total time: 0:00:24 (1.7261 s / it)\n",
      "creating index...\n",
      "index created!\n",
      "Test:  [0/3]  eta: 0:00:04  model_time: 0.6701 (0.6701)  evaluator_time: 0.4268 (0.4268)  time: 1.5023  data: 0.3898  max mem: 6050\n",
      "Test:  [2/3]  eta: 0:00:01  model_time: 0.6451 (0.6165)  evaluator_time: 0.4144 (0.3825)  time: 1.1583  data: 0.1337  max mem: 6050\n",
      "Test: Total time: 0:00:03 (1.1849 s / it)\n",
      "Averaged stats: model_time: 0.6451 (0.6165)  evaluator_time: 0.4144 (0.3825)\n",
      "Accumulating evaluation results...\n",
      "DONE (t=0.01s).\n",
      "Accumulating evaluation results...\n",
      "DONE (t=0.01s).\n",
      "IoU metric: bbox\n",
      " Average Precision  (AP) @[ IoU=0.50:0.95 | area=   all | maxDets=100 ] = 0.000\n",
      " Average Precision  (AP) @[ IoU=0.50      | area=   all | maxDets=100 ] = 0.000\n",
      " Average Precision  (AP) @[ IoU=0.75      | area=   all | maxDets=100 ] = 0.000\n",
      " Average Precision  (AP) @[ IoU=0.50:0.95 | area= small | maxDets=100 ] = -1.000\n",
      " Average Precision  (AP) @[ IoU=0.50:0.95 | area=medium | maxDets=100 ] = 0.000\n",
      " Average Precision  (AP) @[ IoU=0.50:0.95 | area= large | maxDets=100 ] = 0.000\n",
      " Average Recall     (AR) @[ IoU=0.50:0.95 | area=   all | maxDets=  1 ] = 0.000\n",
      " Average Recall     (AR) @[ IoU=0.50:0.95 | area=   all | maxDets= 10 ] = 0.000\n",
      " Average Recall     (AR) @[ IoU=0.50:0.95 | area=   all | maxDets=100 ] = 0.000\n",
      " Average Recall     (AR) @[ IoU=0.50:0.95 | area= small | maxDets=100 ] = -1.000\n",
      " Average Recall     (AR) @[ IoU=0.50:0.95 | area=medium | maxDets=100 ] = 0.000\n",
      " Average Recall     (AR) @[ IoU=0.50:0.95 | area= large | maxDets=100 ] = 0.000\n",
      "IoU metric: segm\n",
      " Average Precision  (AP) @[ IoU=0.50:0.95 | area=   all | maxDets=100 ] = 0.440\n",
      " Average Precision  (AP) @[ IoU=0.50      | area=   all | maxDets=100 ] = 0.881\n",
      " Average Precision  (AP) @[ IoU=0.75      | area=   all | maxDets=100 ] = 0.421\n",
      " Average Precision  (AP) @[ IoU=0.50:0.95 | area= small | maxDets=100 ] = -1.000\n",
      " Average Precision  (AP) @[ IoU=0.50:0.95 | area=medium | maxDets=100 ] = 0.020\n",
      " Average Precision  (AP) @[ IoU=0.50:0.95 | area= large | maxDets=100 ] = 0.477\n",
      " Average Recall     (AR) @[ IoU=0.50:0.95 | area=   all | maxDets=  1 ] = 0.065\n",
      " Average Recall     (AR) @[ IoU=0.50:0.95 | area=   all | maxDets= 10 ] = 0.466\n",
      " Average Recall     (AR) @[ IoU=0.50:0.95 | area=   all | maxDets=100 ] = 0.510\n",
      " Average Recall     (AR) @[ IoU=0.50:0.95 | area= small | maxDets=100 ] = -1.000\n",
      " Average Recall     (AR) @[ IoU=0.50:0.95 | area=medium | maxDets=100 ] = 0.700\n",
      " Average Recall     (AR) @[ IoU=0.50:0.95 | area= large | maxDets=100 ] = 0.509\n",
      "Epoch: [2]  [ 0/14]  eta: 0:02:53  lr: 0.000176  loss: 0.7317 (0.7317)  loss_classifier: 0.1453 (0.1453)  loss_box_reg: 0.1536 (0.1536)  loss_mask: 0.3267 (0.3267)  loss_objectness: 0.0286 (0.0286)  loss_rpn_box_reg: 0.0775 (0.0775)  time: 12.4017  data: 12.0760  max mem: 6050\n"
     ]
    }
   ],
   "source": [
    "# let's train it for 10 epochs\n",
    "num_epochs = 250\n",
    "\n",
    "for epoch in range(num_epochs):\n",
    "    # train for one epoch, printing every 10 iterations\n",
    "    train_one_epoch(model, optimizer, data_loader, device, epoch, print_freq=10)\n",
    "    # update the learning rate\n",
    "    #lr_scheduler.step()\n",
    "\n",
    "    \n",
    "    if epoch % 1 == 0:\n",
    "        # evaluate on the test dataset\n",
    "        evaluate(model, data_loader_test, device=device)\n",
    "\n",
    "        image, target = dataset[1]\n",
    "        # put the model in evaluation mode\n",
    "        model.eval()\n",
    "        t = 0.75\n",
    "        with torch.no_grad():\n",
    "        prediction = model([image.to(device)])[0]\n",
    "        selected = prediction[\"scores\"] > t\n",
    "        predictcion = {k: torch.squeeze(v[selected].cpu()) for k, v in prediction.items()}\n",
    "\n",
    "\n",
    "        img = torch.einsum(\"chw->hwc\", image).cpu().detach().numpy()\n",
    "        plot_item(img, predictcion)\n",
    "        plt.show()\n",
    "\n",
    "        image, target = dataset_test[1]\n",
    "        # put the model in evaluation mode\n",
    "        model.eval()\n",
    "        t = 0.75\n",
    "        with torch.no_grad():\n",
    "            prediction = model([image.to(device)])[0]\n",
    "            selected = prediction[\"scores\"] > t\n",
    "            predictcion = {k: torch.squeeze(v[selected].cpu()) for k, v in prediction.items()}\n",
    "\n",
    "\n",
    "        img = torch.einsum(\"chw->hwc\", image).cpu().detach().numpy()\n",
    "        plot_item(img, predictcion)\n",
    "        plt.show()\n",
    "\n",
    "print(\"That's it!\")"
   ]
  },
  {
   "cell_type": "code",
   "execution_count": null,
   "metadata": {},
   "outputs": [],
   "source": [
    "# pick one image from the test set\n",
    "image, target = dataset_test[1]\n",
    "# put the model in evaluation mode\n",
    "model.eval()\n",
    "t = 0.9\n",
    "with torch.no_grad():\n",
    "    prediction = model([image.to(device)])[0]\n",
    "    selected = prediction[\"scores\"] > t\n",
    "    prediction = {k: torch.squeeze(v[selected].cpu()) for k, v in prediction.items()}\n",
    "    \n",
    "prediction[\"scores\"]\n",
    "\n",
    "img = torch.einsum(\"chw->hwc\", image)\n",
    "plot_item(img, prediction)"
   ]
  },
  {
   "cell_type": "code",
   "execution_count": null,
   "metadata": {},
   "outputs": [],
   "source": [
    "img = torch.einsum(\"chw->hwc\", image)\n",
    "plot_item(img, target)"
   ]
  },
  {
   "cell_type": "code",
   "execution_count": null,
   "metadata": {},
   "outputs": [],
   "source": [
    "img = torch.einsum(\"chw->hwc\", image)\n",
    "plot_item(img, prediction)"
   ]
  },
  {
   "cell_type": "code",
   "execution_count": null,
   "metadata": {},
   "outputs": [],
   "source": []
  }
 ],
 "metadata": {
  "kernelspec": {
   "display_name": "Python [conda env:pytorch]",
   "language": "python",
   "name": "conda-env-pytorch-py"
  },
  "language_info": {
   "codemirror_mode": {
    "name": "ipython",
    "version": 3
   },
   "file_extension": ".py",
   "mimetype": "text/x-python",
   "name": "python",
   "nbconvert_exporter": "python",
   "pygments_lexer": "ipython3",
   "version": "3.8.3"
  }
 },
 "nbformat": 4,
 "nbformat_minor": 4
}
