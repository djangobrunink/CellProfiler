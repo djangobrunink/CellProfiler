{
 "cells": [
  {
   "cell_type": "code",
   "execution_count": 1,
   "metadata": {},
   "outputs": [],
   "source": [
    "%matplotlib inline\n",
    "from fastai2.vision.all import *\n",
    "import typing\n",
    "from sklearn.model_selection import train_test_split\n",
    "import pycocotools.mask as mask_util\n",
    "import matplotlib.patches as patches\n",
    "import functools\n",
    "import detection.utils as utils"
   ]
  },
  {
   "cell_type": "code",
   "execution_count": 2,
   "metadata": {},
   "outputs": [],
   "source": [
    "dataset_root = Path(\"../dataset\")\n",
    "annotations_path = dataset_root / \"via_region_data_fish_type.json\""
   ]
  },
  {
   "cell_type": "code",
   "execution_count": 3,
   "metadata": {},
   "outputs": [
    {
     "data": {
      "text/plain": [
       "(40, 14)"
      ]
     },
     "execution_count": 3,
     "metadata": {},
     "output_type": "execute_result"
    }
   ],
   "source": [
    "with open(annotations_path) as f:\n",
    "    annotations_data = list(json.load(f).values())\n",
    "annotations_data_train, annotations_data_test = train_test_split(annotations_data, test_size=0.25)\n",
    "len(annotations_data_train), len(annotations_data_test)"
   ]
  },
  {
   "cell_type": "code",
   "execution_count": 4,
   "metadata": {},
   "outputs": [],
   "source": [
    "def polygons_to_bitmask(polygons: typing.List[np.ndarray], height: int, width: int) -> np.ndarray:\n",
    "    assert len(polygons) > 0, \"COCOAPI does not support empty polygons\"\n",
    "    rles = mask_util.frPyObjects(polygons, height, width)\n",
    "    rle = mask_util.merge(rles)\n",
    "    return mask_util.decode(rle).astype(np.bool)\n"
   ]
  },
  {
   "cell_type": "code",
   "execution_count": 5,
   "metadata": {},
   "outputs": [],
   "source": [
    "class FishDataset(object):\n",
    "    def __init__(self, root, annotations_data, transforms = None):\n",
    "        self.root = root\n",
    "        self.annotations_data = list(annotations_data)\n",
    "        self.transforms = transforms\n",
    "        self.n_inp = 1\n",
    "\n",
    "\n",
    "       \n",
    "        \n",
    "    def __getitem__(self, index):\n",
    "        image, target = self._get(index)\n",
    "        \n",
    "        if self.transforms is not None:\n",
    "            image, target = self.transforms(image, target)\n",
    "        \n",
    "        return image, target\n",
    "        \n",
    "    @functools.lru_cache(1000)\n",
    "    def _get(self, index):\n",
    "        data = self.annotations_data[index]\n",
    "        file_path = data[\"filename\"]\n",
    "        image = Image.open(self.root / file_path).convert(\"RGB\")\n",
    "        \n",
    "        boxes = []\n",
    "        polygons = []\n",
    "        labels = []\n",
    "        masks = []\n",
    "        \n",
    "        for region in data[\"regions\"]:\n",
    "            shape_attributes = region[\"shape_attributes\"]\n",
    "            px = shape_attributes[\"all_points_x\"]\n",
    "            py = shape_attributes[\"all_points_y\"]\n",
    "            \n",
    "            poly = [[x, y] for x, y in zip(px, py)]\n",
    "            poly = [list(itertools.chain.from_iterable(poly))]\n",
    "            mask = np.uint8(polygons_to_bitmask(poly, image.height, image.width))\n",
    "            \n",
    "            box = [min(px), min(py), max(px), max(py)]\n",
    "            \n",
    "            category_id = 1 #TODO\n",
    "            \n",
    "            boxes.append(box)\n",
    "            masks.append(mask)\n",
    "            labels.append(category_id)\n",
    "           \n",
    "        boxes = torch.as_tensor(boxes, dtype=torch.float32)\n",
    "        labels = torch.as_tensor(labels, dtype=torch.int64)\n",
    "        masks = torch.as_tensor(masks, dtype=torch.uint8)\n",
    "        image_id =  torch.tensor([index])\n",
    "    \n",
    "        areas = (boxes[:, 3] - boxes[:, 1]) * (boxes[:, 2] - boxes[:, 0])\n",
    "        target = {\n",
    "            \"boxes\": boxes,\n",
    "            \"labels\": labels,\n",
    "            \"masks\": masks,\n",
    "            \"image_id\": image_id,\n",
    "            \"area\": areas,\n",
    "            \"iscrowd\": torch.zeros((len(labels),), dtype=torch.int64)\n",
    "        }\n",
    "        \n",
    "        return image, target\n",
    "    \n",
    "    \n",
    "    def __len__(self):\n",
    "        return len(self.annotations_data)"
   ]
  },
  {
   "cell_type": "code",
   "execution_count": 6,
   "metadata": {},
   "outputs": [],
   "source": [
    "def plot_item(image, target):\n",
    "    image = np.array(image)\n",
    "    print(image.shape)\n",
    "    \n",
    "\n",
    "    ax = plt.axes()\n",
    "    ax.imshow(image)\n",
    "    \n",
    "\n",
    "    for xmin, ymin, xmax, ymax in target[\"boxes\"]:\n",
    "        rect = patches.Rectangle((xmin, ymin), xmax - xmin, ymax - ymin,linewidth=1,edgecolor='r',facecolor='none')\n",
    "        ax.add_patch(rect)\n",
    "        \n",
    "    draw_mask = np.zeros(target[\"masks\"][0].shape)\n",
    "    for mask in target[\"masks\"]:\n",
    "        mask = np.array(mask)\n",
    "        draw_mask += mask\n",
    "    \n",
    "    plt.imshow(draw_mask > 0, 'gray', interpolation='none', alpha=.5)"
   ]
  },
  {
   "cell_type": "code",
   "execution_count": 7,
   "metadata": {},
   "outputs": [],
   "source": [
    "import detection.transforms as T\n",
    "\n",
    "def get_transform():\n",
    "    transforms = []\n",
    "    transforms.append(T.ToTensor())\n",
    "    #if train:\n",
    "    #    transforms.append(T.RandomHorizontalFlip(0.5))\n",
    "    \n",
    "    return T.Compose(transforms)"
   ]
  },
  {
   "cell_type": "code",
   "execution_count": 8,
   "metadata": {},
   "outputs": [],
   "source": [
    "import torchvision\n",
    "from torchvision.models.detection.faster_rcnn import FastRCNNPredictor\n",
    "from torchvision.models.detection.mask_rcnn import MaskRCNNPredictor\n",
    "\n",
    "\n",
    "num_classes = 2\n",
    "\n",
    "def create_model(num_classes):\n",
    "    model = torchvision.models.detection.maskrcnn_resnet50_fpn(pretrained=True)\n",
    "    in_features = model.roi_heads.box_predictor.cls_score.in_features\n",
    "    model.roi_heads.box_predictor = FastRCNNPredictor(in_features, num_classes)\n",
    "    in_features_mask = model.roi_heads.mask_predictor.conv5_mask.in_channels \n",
    "    hidden_layer = 256\n",
    "\n",
    "    model.roi_heads.mask_predictor = MaskRCNNPredictor(\n",
    "        in_features_mask,\n",
    "        hidden_layer,\n",
    "        num_classes,\n",
    "    )\n",
    "    \n",
    "    return model\n",
    "    \n",
    "\n",
    "\n"
   ]
  },
  {
   "cell_type": "code",
   "execution_count": 9,
   "metadata": {},
   "outputs": [],
   "source": [
    "def params_splitter(model):\n",
    "    return [params(model.backbone), params(model.rpn), params(model.roi_heads)]"
   ]
  },
  {
   "cell_type": "code",
   "execution_count": 10,
   "metadata": {},
   "outputs": [],
   "source": [
    "train_ds = FishDataset(dataset_root, annotations_data_train,  get_transform())\n",
    "valid_ds = FishDataset(dataset_root, annotations_data_test,  get_transform())\n",
    "\n",
    "data_loader = torch.utils.data.DataLoader(\n",
    "    train_ds, \n",
    "    batch_size=4, \n",
    "    shuffle=True, \n",
    "    num_workers=4,\n",
    "    collate_fn=utils.collate_fn\n",
    ")"
   ]
  },
  {
   "cell_type": "code",
   "execution_count": 11,
   "metadata": {},
   "outputs": [],
   "source": [
    "model = create_model(num_classes)\n",
    "\n"
   ]
  },
  {
   "cell_type": "code",
   "execution_count": 12,
   "metadata": {},
   "outputs": [
    {
     "name": "stdout",
     "output_type": "stream",
     "text": [
      "1e-07 0\n"
     ]
    },
    {
     "name": "stderr",
     "output_type": "stream",
     "text": [
      "/home/jordi/anaconda3/envs/pytorch/lib/python3.8/site-packages/torch/nn/functional.py:2854: UserWarning: The default behavior for interpolate/upsample with float scale_factor will change in 1.6.0 to align with other frameworks/libraries, and use scale_factor directly, instead of relying on the computed output size. If you wish to keep the old behavior, please set recompute_scale_factor=True. See the documentation of nn.Upsample for details. \n",
      "  warnings.warn(\"The default behavior for interpolate/upsample with float scale_factor will change \"\n",
      "/opt/conda/conda-bld/pytorch_1591914858187/work/torch/csrc/utils/python_arg_parser.cpp:756: UserWarning: This overload of nonzero is deprecated:\n",
      "\tnonzero(Tensor input, *, Tensor out)\n",
      "Consider using one of the following signatures instead:\n",
      "\tnonzero(Tensor input, *, bool as_tuple)\n"
     ]
    },
    {
     "name": "stdout",
     "output_type": "stream",
     "text": [
      "tensor(5.9331, device='cuda:0', grad_fn=<AddBackward0>) True\n",
      "1.4563484775012443e-07 1\n",
      "tensor(6.4633, device='cuda:0', grad_fn=<AddBackward0>) True\n",
      "2.1209508879201927e-07 2\n",
      "tensor(5.7778, device='cuda:0', grad_fn=<AddBackward0>) True\n",
      "3.0888435964774783e-07 3\n",
      "tensor(5.9343, device='cuda:0', grad_fn=<AddBackward0>) True\n",
      "4.498432668969444e-07 4\n",
      "tensor(6.0961, device='cuda:0', grad_fn=<AddBackward0>) True\n",
      "6.55128556859551e-07 5\n",
      "tensor(6.0877, device='cuda:0', grad_fn=<AddBackward0>) True\n",
      "9.540954763499944e-07 6\n",
      "tensor(5.7725, device='cuda:0', grad_fn=<AddBackward0>) True\n",
      "1.389495494373136e-06 7\n",
      "tensor(5.1417, device='cuda:0', grad_fn=<AddBackward0>) True\n",
      "2.0235896477251557e-06 8\n",
      "tensor(5.6835, device='cuda:0', grad_fn=<AddBackward0>) True\n",
      "2.94705170255181e-06 9\n",
      "tensor(5.8673, device='cuda:0', grad_fn=<AddBackward0>) True\n",
      "4.291934260128778e-06 10\n",
      "tensor(5.3107, device='cuda:0', grad_fn=<AddBackward0>) True\n",
      "6.250551925273976e-06 11\n",
      "tensor(5.8012, device='cuda:0', grad_fn=<AddBackward0>) True\n",
      "9.102981779915228e-06 12\n",
      "tensor(4.5768, device='cuda:0', grad_fn=<AddBackward0>) True\n",
      "1.3257113655901082e-05 13\n",
      "tensor(4.5595, device='cuda:0', grad_fn=<AddBackward0>) True\n",
      "1.9306977288832496e-05 14\n",
      "tensor(4.7889, device='cuda:0', grad_fn=<AddBackward0>) True\n",
      "2.8117686979742253e-05 15\n",
      "tensor(3.6233, device='cuda:0', grad_fn=<AddBackward0>) True\n",
      "4.094915062380419e-05 16\n",
      "tensor(3.1891, device='cuda:0', grad_fn=<AddBackward0>) True\n",
      "5.9636233165946365e-05 17\n",
      "tensor(2.9790, device='cuda:0', grad_fn=<AddBackward0>) True\n",
      "8.68511373751352e-05 18\n",
      "tensor(2.1244, device='cuda:0', grad_fn=<AddBackward0>) True\n",
      "0.00012648552168552957 19\n",
      "tensor(1.6883, device='cuda:0', grad_fn=<AddBackward0>) True\n",
      "0.00018420699693267144 20\n",
      "tensor(1.4507, device='cuda:0', grad_fn=<AddBackward0>) True\n",
      "0.00026826957952797245 21\n",
      "tensor(1.8465, device='cuda:0', grad_fn=<AddBackward0>) True\n",
      "0.0003906939937054613 22\n",
      "tensor(1.4455, device='cuda:0', grad_fn=<AddBackward0>) True\n",
      "0.0005689866029018293 23\n",
      "tensor(1.1808, device='cuda:0', grad_fn=<AddBackward0>) True\n",
      "0.0008286427728546842 24\n",
      "tensor(1.2248, device='cuda:0', grad_fn=<AddBackward0>) True\n",
      "0.0012067926406393288 25\n",
      "tensor(1.2506, device='cuda:0', grad_fn=<AddBackward0>) True\n",
      "0.0017575106248547893 26\n",
      "tensor(2.2067, device='cuda:0', grad_fn=<AddBackward0>) True\n",
      "0.0025595479226995332 27\n",
      "tensor(20.3134, device='cuda:0', grad_fn=<AddBackward0>) True\n",
      "0.003727593720314938 28\n",
      "tensor(1.5639, device='cuda:0', grad_fn=<AddBackward0>) True\n",
      "0.005428675439323859 29\n",
      "tensor(3.0833, device='cuda:0', grad_fn=<AddBackward0>) True\n",
      "0.007906043210907685 30\n",
      "tensor(3.9520, device='cuda:0', grad_fn=<AddBackward0>) True\n",
      "0.011513953993264457 31\n",
      "tensor(4.6208, device='cuda:0', grad_fn=<AddBackward0>) True\n",
      "0.016768329368110065 32\n",
      "tensor(3.5453, device='cuda:0', grad_fn=<AddBackward0>) True\n",
      "0.024420530945486497 33\n",
      "tensor(4.7167, device='cuda:0', grad_fn=<AddBackward0>) True\n",
      "0.03556480306223128 34\n",
      "tensor(3.2996, device='cuda:0', grad_fn=<AddBackward0>) True\n",
      "0.05179474679231202 35\n",
      "tensor(14.7564, device='cuda:0', grad_fn=<AddBackward0>) True\n",
      "0.07543120063354607 36\n",
      "tensor(18.4179, device='cuda:0', grad_fn=<AddBackward0>) True\n",
      "0.10985411419875572 37\n",
      "tensor(232.0828, device='cuda:0', grad_fn=<AddBackward0>) True\n",
      "0.15998587196060574 38\n",
      "tensor(88.2041, device='cuda:0', grad_fn=<AddBackward0>) True\n",
      "0.23299518105153671 39\n",
      "tensor(3266.7988, device='cuda:0', grad_fn=<AddBackward0>) True\n",
      "0.3393221771895323 40\n",
      "tensor(6950.5137, device='cuda:0', grad_fn=<AddBackward0>) True\n",
      "0.4941713361323828 41\n",
      "tensor(10028.6680, device='cuda:0', grad_fn=<AddBackward0>) True\n",
      "0.7196856730011514 42\n",
      "tensor(14527.8164, device='cuda:0', grad_fn=<AddBackward0>) True\n",
      "1.0481131341546852 43\n",
      "tensor(1677295.8750, device='cuda:0', grad_fn=<AddBackward0>) True\n",
      "1.5264179671752303 44\n",
      "tensor(430945.5000, device='cuda:0', grad_fn=<AddBackward0>) True\n",
      "2.222996482526191 45\n",
      "tensor(1110096.1250, device='cuda:0', grad_fn=<AddBackward0>) True\n",
      "3.2374575428176398 46\n",
      "tensor(20337720., device='cuda:0', grad_fn=<AddBackward0>) True\n",
      "4.714866363457389 47\n",
      "tensor(70626968., device='cuda:0', grad_fn=<AddBackward0>) True\n",
      "6.866488450042998 48\n",
      "tensor(3.9680e+08, device='cuda:0', grad_fn=<AddBackward0>) True\n",
      "10.0 49\n",
      "tensor(3.2862e+08, device='cuda:0', grad_fn=<AddBackward0>) True\n"
     ]
    },
    {
     "ename": "IndexError",
     "evalue": "index 50 is out of bounds for axis 0 with size 50",
     "output_type": "error",
     "traceback": [
      "\u001b[0;31m---------------------------------------------------------------------------\u001b[0m",
      "\u001b[0;31mIndexError\u001b[0m                                Traceback (most recent call last)",
      "\u001b[0;32m<ipython-input-12-af262e17d436>\u001b[0m in \u001b[0;36m<module>\u001b[0;34m\u001b[0m\n\u001b[1;32m     50\u001b[0m         \u001b[0mlosses\u001b[0m\u001b[0;34m.\u001b[0m\u001b[0mbackward\u001b[0m\u001b[0;34m(\u001b[0m\u001b[0;34m)\u001b[0m\u001b[0;34m\u001b[0m\u001b[0;34m\u001b[0m\u001b[0m\n\u001b[1;32m     51\u001b[0m         \u001b[0moptimizer\u001b[0m\u001b[0;34m.\u001b[0m\u001b[0mstep\u001b[0m\u001b[0;34m(\u001b[0m\u001b[0;34m)\u001b[0m\u001b[0;34m\u001b[0m\u001b[0;34m\u001b[0m\u001b[0m\n\u001b[0;32m---> 52\u001b[0;31m         \u001b[0mlr_scheduler\u001b[0m\u001b[0;34m.\u001b[0m\u001b[0mstep\u001b[0m\u001b[0;34m(\u001b[0m\u001b[0;34m)\u001b[0m\u001b[0;34m\u001b[0m\u001b[0;34m\u001b[0m\u001b[0m\n\u001b[0m\u001b[1;32m     53\u001b[0m \u001b[0;34m\u001b[0m\u001b[0m\n\u001b[1;32m     54\u001b[0m         \u001b[0;32mif\u001b[0m \u001b[0mlen\u001b[0m\u001b[0;34m(\u001b[0m\u001b[0mloss\u001b[0m\u001b[0;34m)\u001b[0m \u001b[0;34m==\u001b[0m \u001b[0;36m0\u001b[0m\u001b[0;34m:\u001b[0m\u001b[0;34m\u001b[0m\u001b[0;34m\u001b[0m\u001b[0m\n",
      "\u001b[0;32m~/anaconda3/envs/pytorch/lib/python3.8/site-packages/torch/optim/lr_scheduler.py\u001b[0m in \u001b[0;36mstep\u001b[0;34m(self, epoch)\u001b[0m\n\u001b[1;32m    139\u001b[0m             \u001b[0;32mif\u001b[0m \u001b[0mepoch\u001b[0m \u001b[0;32mis\u001b[0m \u001b[0;32mNone\u001b[0m\u001b[0;34m:\u001b[0m\u001b[0;34m\u001b[0m\u001b[0;34m\u001b[0m\u001b[0m\n\u001b[1;32m    140\u001b[0m                 \u001b[0mself\u001b[0m\u001b[0;34m.\u001b[0m\u001b[0mlast_epoch\u001b[0m \u001b[0;34m+=\u001b[0m \u001b[0;36m1\u001b[0m\u001b[0;34m\u001b[0m\u001b[0;34m\u001b[0m\u001b[0m\n\u001b[0;32m--> 141\u001b[0;31m                 \u001b[0mvalues\u001b[0m \u001b[0;34m=\u001b[0m \u001b[0mself\u001b[0m\u001b[0;34m.\u001b[0m\u001b[0mget_lr\u001b[0m\u001b[0;34m(\u001b[0m\u001b[0;34m)\u001b[0m\u001b[0;34m\u001b[0m\u001b[0;34m\u001b[0m\u001b[0m\n\u001b[0m\u001b[1;32m    142\u001b[0m             \u001b[0;32melse\u001b[0m\u001b[0;34m:\u001b[0m\u001b[0;34m\u001b[0m\u001b[0;34m\u001b[0m\u001b[0m\n\u001b[1;32m    143\u001b[0m                 \u001b[0mwarnings\u001b[0m\u001b[0;34m.\u001b[0m\u001b[0mwarn\u001b[0m\u001b[0;34m(\u001b[0m\u001b[0mEPOCH_DEPRECATION_WARNING\u001b[0m\u001b[0;34m,\u001b[0m \u001b[0mUserWarning\u001b[0m\u001b[0;34m)\u001b[0m\u001b[0;34m\u001b[0m\u001b[0;34m\u001b[0m\u001b[0m\n",
      "\u001b[0;32m~/anaconda3/envs/pytorch/lib/python3.8/site-packages/torch/optim/lr_scheduler.py\u001b[0m in \u001b[0;36mget_lr\u001b[0;34m(self)\u001b[0m\n\u001b[1;32m    232\u001b[0m                           \"please use `get_last_lr()`.\")\n\u001b[1;32m    233\u001b[0m \u001b[0;34m\u001b[0m\u001b[0m\n\u001b[0;32m--> 234\u001b[0;31m         return [base_lr * lmbda(self.last_epoch)\n\u001b[0m\u001b[1;32m    235\u001b[0m                 for lmbda, base_lr in zip(self.lr_lambdas, self.base_lrs)]\n\u001b[1;32m    236\u001b[0m \u001b[0;34m\u001b[0m\u001b[0m\n",
      "\u001b[0;32m~/anaconda3/envs/pytorch/lib/python3.8/site-packages/torch/optim/lr_scheduler.py\u001b[0m in \u001b[0;36m<listcomp>\u001b[0;34m(.0)\u001b[0m\n\u001b[1;32m    232\u001b[0m                           \"please use `get_last_lr()`.\")\n\u001b[1;32m    233\u001b[0m \u001b[0;34m\u001b[0m\u001b[0m\n\u001b[0;32m--> 234\u001b[0;31m         return [base_lr * lmbda(self.last_epoch)\n\u001b[0m\u001b[1;32m    235\u001b[0m                 for lmbda, base_lr in zip(self.lr_lambdas, self.base_lrs)]\n\u001b[1;32m    236\u001b[0m \u001b[0;34m\u001b[0m\u001b[0m\n",
      "\u001b[0;32m<ipython-input-12-af262e17d436>\u001b[0m in \u001b[0;36mlambda_\u001b[0;34m(epoch)\u001b[0m\n\u001b[1;32m     24\u001b[0m \u001b[0mlrs\u001b[0m \u001b[0;34m=\u001b[0m \u001b[0mnp\u001b[0m\u001b[0;34m.\u001b[0m\u001b[0mlogspace\u001b[0m\u001b[0;34m(\u001b[0m\u001b[0mnp\u001b[0m\u001b[0;34m.\u001b[0m\u001b[0mlog10\u001b[0m\u001b[0;34m(\u001b[0m\u001b[0mstart_lr\u001b[0m\u001b[0;34m)\u001b[0m\u001b[0;34m,\u001b[0m \u001b[0mnp\u001b[0m\u001b[0;34m.\u001b[0m\u001b[0mlog10\u001b[0m\u001b[0;34m(\u001b[0m\u001b[0mend_lr\u001b[0m\u001b[0;34m)\u001b[0m\u001b[0;34m)\u001b[0m\u001b[0;34m\u001b[0m\u001b[0;34m\u001b[0m\u001b[0m\n\u001b[1;32m     25\u001b[0m \u001b[0;32mdef\u001b[0m \u001b[0mlambda_\u001b[0m\u001b[0;34m(\u001b[0m\u001b[0mepoch\u001b[0m\u001b[0;34m)\u001b[0m\u001b[0;34m:\u001b[0m\u001b[0;34m\u001b[0m\u001b[0;34m\u001b[0m\u001b[0m\n\u001b[0;32m---> 26\u001b[0;31m     \u001b[0mprint\u001b[0m\u001b[0;34m(\u001b[0m\u001b[0mlrs\u001b[0m\u001b[0;34m[\u001b[0m\u001b[0mepoch\u001b[0m\u001b[0;34m]\u001b[0m\u001b[0;34m,\u001b[0m \u001b[0mepoch\u001b[0m\u001b[0;34m)\u001b[0m\u001b[0;34m\u001b[0m\u001b[0;34m\u001b[0m\u001b[0m\n\u001b[0m\u001b[1;32m     27\u001b[0m     \u001b[0;32mreturn\u001b[0m \u001b[0mlrs\u001b[0m\u001b[0;34m[\u001b[0m\u001b[0mepoch\u001b[0m\u001b[0;34m]\u001b[0m\u001b[0;34m\u001b[0m\u001b[0;34m\u001b[0m\u001b[0m\n\u001b[1;32m     28\u001b[0m \u001b[0mlr_scheduler\u001b[0m \u001b[0;34m=\u001b[0m \u001b[0mLambdaLR\u001b[0m\u001b[0;34m(\u001b[0m\u001b[0moptimizer\u001b[0m\u001b[0;34m,\u001b[0m \u001b[0mlambda_\u001b[0m\u001b[0;34m)\u001b[0m\u001b[0;34m\u001b[0m\u001b[0;34m\u001b[0m\u001b[0m\n",
      "\u001b[0;31mIndexError\u001b[0m: index 50 is out of bounds for axis 0 with size 50"
     ]
    }
   ],
   "source": [
    "parameter_groups = params_splitter(model)\n",
    "for o in parameter_groups[0] + parameter_groups[1]:\n",
    "    o.requires_grad = False\n",
    "\n",
    "\n",
    "device = torch.device('cuda') if torch.cuda.is_available() else torch.device('cpu')\n",
    "model.to(device)\n",
    "\n",
    "\n",
    "params = [p for p in model.parameters() if p.requires_grad]\n",
    "\"\"\"\n",
    "optimizer = torch.optim.SGD(\n",
    "    params, \n",
    "    lr=1,\n",
    "    momentum=0.9, \n",
    "    weight_decay=0.0005\n",
    ")\n",
    "\"\"\"\n",
    "optimizer = torch.optim.Adam(params, lr=1)\n",
    "\n",
    "from torch.optim.lr_scheduler import LambdaLR\n",
    "start_lr=1e-7\n",
    "end_lr=10\n",
    "\n",
    "lrs = np.logspace(np.log10(start_lr), np.log10(end_lr))\n",
    "def lambda_(epoch):\n",
    "    print(lrs[epoch], epoch)\n",
    "    return lrs[epoch]\n",
    "lr_scheduler = LambdaLR(optimizer, lambda_)\n",
    "\n",
    "\n",
    "model.train()\n",
    "loss = []\n",
    "\n",
    "i = 0\n",
    "while i < len(lrs):\n",
    "    for images, targets in data_loader:\n",
    "        images = list(image.to(device) for image in images)\n",
    "        targets = [{k: v.to(device) for k, v in t.items()} for t in targets]\n",
    "\n",
    "        loss_dict = model(images, targets)\n",
    "        losses = sum(loss for loss in loss_dict.values())\n",
    "        print(losses, math.isfinite(losses))\n",
    "        \n",
    "        if not math.isfinite(losses):\n",
    "            i = len(lrs)\n",
    "            break\n",
    "\n",
    "\n",
    "        optimizer.zero_grad()\n",
    "        losses.backward()\n",
    "        optimizer.step()\n",
    "        lr_scheduler.step()\n",
    "\n",
    "        if len(loss) == 0:\n",
    "            loss.append(losses)\n",
    "        else:\n",
    "            loss.append(0.9 * loss[-1] + 0.1 * losses)\n",
    "\n",
    "        i += 1\n",
    "\n",
    "        if i >= len(lrs):\n",
    "            break\n",
    "        \n",
    "    \n"
   ]
  },
  {
   "cell_type": "code",
   "execution_count": null,
   "metadata": {},
   "outputs": [],
   "source": []
  },
  {
   "cell_type": "code",
   "execution_count": 13,
   "metadata": {},
   "outputs": [
    {
     "data": {
      "text/plain": [
       "array([5.93306828e+00, 5.98609400e+00, 5.96526241e+00, 5.96216774e+00,\n",
       "       5.97556162e+00, 5.98678064e+00, 5.96535015e+00, 5.88298702e+00,\n",
       "       5.86303711e+00, 5.86346006e+00, 5.80817938e+00, 5.80748224e+00,\n",
       "       5.68441105e+00, 5.57192087e+00, 5.49361849e+00, 5.30658579e+00,\n",
       "       5.09484148e+00, 4.88325882e+00, 4.60737753e+00, 4.31546593e+00,\n",
       "       4.02899170e+00, 3.81074500e+00, 3.57421541e+00, 3.33487391e+00,\n",
       "       3.12386322e+00, 2.93653512e+00, 2.86355305e+00, 4.60853863e+00,\n",
       "       4.30407572e+00, 4.18199730e+00, 4.15900183e+00, 4.20518494e+00,\n",
       "       4.13919163e+00, 4.19693851e+00, 4.10720301e+00, 5.17212391e+00,\n",
       "       6.49669838e+00, 2.90553093e+01, 3.49701843e+01, 3.58153076e+02,\n",
       "       1.01738916e+03, 1.91851709e+03, 3.17944678e+03, 1.70591094e+05,\n",
       "       1.96626531e+05, 2.87973500e+05, 2.29294825e+06, 9.12635000e+06,\n",
       "       4.78933760e+07], dtype=float32)"
      ]
     },
     "execution_count": 13,
     "metadata": {},
     "output_type": "execute_result"
    }
   ],
   "source": [
    "loss = np.array([l.cpu().detach().numpy() for l in loss])\n",
    "loss"
   ]
  },
  {
   "cell_type": "code",
   "execution_count": 14,
   "metadata": {},
   "outputs": [
    {
     "data": {
      "text/plain": [
       "(49, 50)"
      ]
     },
     "execution_count": 14,
     "metadata": {},
     "output_type": "execute_result"
    }
   ],
   "source": [
    "len(loss), len(lrs)"
   ]
  },
  {
   "cell_type": "code",
   "execution_count": 15,
   "metadata": {},
   "outputs": [
    {
     "data": {
      "text/plain": [
       "array([5.9330683, 5.986094 , 5.9652624, 5.9621677, 5.9755616, 5.9867806,\n",
       "       5.96535  , 5.882987 , 5.863037 , 5.86346  , 5.8081794, 5.8074822,\n",
       "       5.684411 , 5.571921 , 5.4936185, 5.306586 , 5.0948415, 4.883259 ,\n",
       "       4.6073775, 4.315466 , 4.0289917, 3.810745 , 3.5742154, 3.334874 ,\n",
       "       3.1238632, 2.9365351, 2.863553 , 4.6085386, 4.3040757, 4.1819973,\n",
       "       4.159002 , 4.205185 , 4.1391916, 4.1969385, 4.107203 , 5.172124 ,\n",
       "       6.4966984], dtype=float32)"
      ]
     },
     "execution_count": 15,
     "metadata": {},
     "output_type": "execute_result"
    }
   ],
   "source": [
    "loss2 = loss[loss < 5 * np.min(loss)]\n",
    "loss2"
   ]
  },
  {
   "cell_type": "code",
   "execution_count": 16,
   "metadata": {},
   "outputs": [
    {
     "name": "stdout",
     "output_type": "stream",
     "text": [
      "0.0017575106248547893\n",
      "0.00017575106248547893\n"
     ]
    },
    {
     "data": {
      "image/png": "[encoded data removed]",
      "text/plain": [
       "<Figure size 432x288 with 1 Axes>"
      ]
     },
     "metadata": {
      "needs_background": "light"
     },
     "output_type": "display_data"
    }
   ],
   "source": [
    "plt.plot(lrs[:len(loss2)], loss2)\n",
    "plt.xscale(\"log\")\n",
    "print(lrs[np.argmin(loss)])\n",
    "print(lrs[np.argmin(loss)] / 10)"
   ]
  },
  {
   "cell_type": "code",
   "execution_count": 18,
   "metadata": {},
   "outputs": [
    {
     "data": {
      "text/plain": [
       "43922395"
      ]
     },
     "execution_count": 18,
     "metadata": {},
     "output_type": "execute_result"
    }
   ],
   "source": [
    "model = create_model(2)\n",
    "def get_n_params(model):\n",
    "    pp=0\n",
    "    for p in list(model.parameters()):\n",
    "        nn=1\n",
    "        for s in list(p.size()):\n",
    "            nn = nn*s\n",
    "        pp += nn\n",
    "    return pp\n",
    "get_n_params(model)"
   ]
  },
  {
   "cell_type": "code",
   "execution_count": null,
   "metadata": {},
   "outputs": [],
   "source": []
  }
 ],
 "metadata": {
  "kernelspec": {
   "display_name": "Python [conda env:pytorch]",
   "language": "python",
   "name": "conda-env-pytorch-py"
  },
  "language_info": {
   "codemirror_mode": {
    "name": "ipython",
    "version": 3
   },
   "file_extension": ".py",
   "mimetype": "text/x-python",
   "name": "python",
   "nbconvert_exporter": "python",
   "pygments_lexer": "ipython3",
   "version": "3.8.3"
  }
 },
 "nbformat": 4,
 "nbformat_minor": 4
}
