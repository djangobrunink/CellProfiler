{
 "cells": [
  {
   "cell_type": "markdown",
   "metadata": {},
   "source": [
    "# Evaluation"
   ]
  },
  {
   "cell_type": "code",
   "execution_count": null,
   "metadata": {},
   "outputs": [],
   "source": [
    "import os\n",
    "\n",
    "if \"visualization\" in os.getcwd():\n",
    "    os.chdir(\"..\")\n",
    "\n",
    "if \"notebooks\" in os.getcwd():\n",
    "    os.chdir(\"..\")\n",
    "os.getcwd()"
   ]
  },
  {
   "cell_type": "code",
   "execution_count": 2,
   "metadata": {},
   "outputs": [],
   "source": [
    "from src.dataset import register_default_datasets\n",
    "from src.visualization import create_confusion_matrix\n",
    "\n",
    "import matplotlib.pyplot as plt\n",
    "from pathlib import Path\n",
    "import glob\n",
    "import numpy as np\n",
    "\n",
    "import detectron2\n",
    "from detectron2.data import DatasetCatalog, MetadataCatalog\n",
    "from detectron2.config import get_cfg\n",
    "from detectron2.engine import DefaultPredictor\n",
    "from detectron2.data import detection_utils as utils\n",
    "from detectron2.utils.visualizer import Visualizer\n",
    "from detectron2.data.dataset_mapper import DatasetMapper\n",
    "from detectron2.structures.masks import polygons_to_bitmask\n",
    "import copy\n",
    "from sklearn.metrics import confusion_matrix, plot_confusion_matrix\n",
    "\n",
    "import torch\n",
    "import pandas as pd\n",
    "import seaborn as sn\n",
    "\n",
    "register_default_datasets()\n",
    "meta_dataset = MetadataCatalog.get(\"train\")"
   ]
  },
  {
   "cell_type": "code",
   "execution_count": 8,
   "metadata": {},
   "outputs": [],
   "source": [
    "root = Path(\"./ouput5\")\n",
    "config_path = str(root / \"config.yaml\")\n",
    "cfg = get_cfg()\n",
    "cfg.merge_from_file(config_path)\n",
    "cfg.MODEL.WEIGHTS = str(root / \"model_final.pth\")\n",
    "cfg.MODEL.ROI_HEADS.SCORE_THRESH_TEST = 0.75\n",
    "predictor = DefaultPredictor(cfg)"
   ]
  },
  {
   "cell_type": "code",
   "execution_count": 9,
   "metadata": {},
   "outputs": [],
   "source": [
    "def mapper(dataset_dict):\n",
    "    # Implement a mapper, similar to the default DatasetMapper, but with your own customizations\n",
    "    dataset_dict = copy.deepcopy(dataset_dict)  # it will be modified by code below\n",
    "    image = utils.read_image(dataset_dict[\"file_name\"], format=\"BGR\")\n",
    "    \n",
    "    data = dict()\n",
    "\n",
    "    data[\"height\"]  = dataset_dict[\"height\"]\n",
    "    data[\"width\"]  = dataset_dict[\"width\"]\n",
    "    data[\"file_name\"] = dataset_dict[\"file_name\"]\n",
    "    data[\"image\"] = image\n",
    "\n",
    "    instances = utils.annotations_to_instances(dataset_dict[\"annotations\"], image.shape[:2])\n",
    "    data[\"instances\"] = utils.filter_empty_instances(instances)\n",
    "    \n",
    "    return data"
   ]
  },
  {
   "cell_type": "code",
   "execution_count": 10,
   "metadata": {},
   "outputs": [
    {
     "data": {
      "image/png": "[encoded data removed]",
      "text/plain": [
       "<Figure size 432x288 with 2 Axes>"
      ]
     },
     "metadata": {
      "needs_background": "light"
     },
     "output_type": "display_data"
    },
    {
     "name": "stdout",
     "output_type": "stream",
     "text": [
      "CPU times: user 37 s, sys: 665 ms, total: 37.7 s\n",
      "Wall time: 4.85 s\n"
     ]
    }
   ],
   "source": [
    "%%time\n",
    "\n",
    "dataset = DatasetCatalog.get(\"val\")\n",
    "\n",
    "ground_truths = []\n",
    "predictions = []\n",
    "\n",
    "for item in dataset:\n",
    "    gt = mapper(item)\n",
    "    pred_instances = predictor(gt[\"image\"])[\"instances\"].to(\"cpu\")\n",
    "    \n",
    "    ground_truths.append(gt)\n",
    "    predictions.append(pred_instances)\n",
    "\n",
    "m, labels = create_confusion_matrix(ground_truths, predictions, meta_dataset)\n",
    "df = pd.DataFrame(m, index=list(map(lambda x: \"Pred \" + x, labels)), columns=list(map(lambda x: \"GT \" + x, labels)))\n",
    "sn.heatmap(df, annot=True)\n",
    "plt.show()"
   ]
  },
  {
   "cell_type": "code",
   "execution_count": 11,
   "metadata": {},
   "outputs": [
    {
     "name": "stdout",
     "output_type": "stream",
     "text": [
      "CPU times: user 29.7 s, sys: 692 ms, total: 30.4 s\n",
      "Wall time: 3.96 s\n"
     ]
    }
   ],
   "source": [
    "%%time\n",
    "\n",
    "dataset = DatasetCatalog.get(\"test\")\n",
    "\n",
    "ground_truths = []\n",
    "predictions = []\n",
    "\n",
    "for item in dataset:\n",
    "    gt = mapper(item)\n",
    "    pred_instances = predictor(gt[\"image\"])[\"instances\"].to(\"cpu\")\n",
    "    \n",
    "    ground_truths.append(gt)\n",
    "    predictions.append(pred_instances)\n",
    "\n",
    "m, labels = create_confusion_matrix(ground_truths, predictions, meta_dataset)\n",
    "df = pd.DataFrame(m, index=list(map(lambda x: \"Pred \" + x, labels)), columns=list(map(lambda x: \"GT \" + x, labels)))\n",
    "\n",
    "\n"
   ]
  },
  {
   "cell_type": "code",
   "execution_count": 24,
   "metadata": {},
   "outputs": [
    {
     "data": {
      "text/plain": [
       "(504, 504, 3)"
      ]
     },
     "execution_count": 24,
     "metadata": {},
     "output_type": "execute_result"
    },
    {
     "data": {
      "image/png": "[encoded data removed]",
      "text/plain": [
       "<Figure size 504x504 with 2 Axes>"
      ]
     },
     "metadata": {
      "needs_background": "light"
     },
     "output_type": "display_data"
    }
   ],
   "source": [
    "import io\n",
    "import cv2\n",
    "plt.figure(figsize=(7, 7))\n",
    "sn.heatmap(df, annot=True)\n",
    "buf = io.BytesIO()\n",
    "plt.savefig(buf, format='jpg')\n",
    "buf.seek(0)\n",
    "cv2.imdecode(np.frombuffer(buf.getvalue(), np.uint8), -1)"
   ]
  },
  {
   "cell_type": "code",
   "execution_count": 16,
   "metadata": {},
   "outputs": [
    {
     "data": {
      "text/plain": [
       "\u001b[0;31mSignature:\u001b[0m \u001b[0mImage\u001b[0m\u001b[0;34m.\u001b[0m\u001b[0mfrombytes\u001b[0m\u001b[0;34m(\u001b[0m\u001b[0mmode\u001b[0m\u001b[0;34m,\u001b[0m \u001b[0msize\u001b[0m\u001b[0;34m,\u001b[0m \u001b[0mdata\u001b[0m\u001b[0;34m,\u001b[0m \u001b[0mdecoder_name\u001b[0m\u001b[0;34m=\u001b[0m\u001b[0;34m'raw'\u001b[0m\u001b[0;34m,\u001b[0m \u001b[0;34m*\u001b[0m\u001b[0margs\u001b[0m\u001b[0;34m)\u001b[0m\u001b[0;34m\u001b[0m\u001b[0;34m\u001b[0m\u001b[0m\n",
       "\u001b[0;31mSource:\u001b[0m   \n",
       "\u001b[0;32mdef\u001b[0m \u001b[0mfrombytes\u001b[0m\u001b[0;34m(\u001b[0m\u001b[0mmode\u001b[0m\u001b[0;34m,\u001b[0m \u001b[0msize\u001b[0m\u001b[0;34m,\u001b[0m \u001b[0mdata\u001b[0m\u001b[0;34m,\u001b[0m \u001b[0mdecoder_name\u001b[0m\u001b[0;34m=\u001b[0m\u001b[0;34m\"raw\"\u001b[0m\u001b[0;34m,\u001b[0m \u001b[0;34m*\u001b[0m\u001b[0margs\u001b[0m\u001b[0;34m)\u001b[0m\u001b[0;34m:\u001b[0m\u001b[0;34m\u001b[0m\n",
       "\u001b[0;34m\u001b[0m    \u001b[0;34m\"\"\"\u001b[0m\n",
       "\u001b[0;34m    Creates a copy of an image memory from pixel data in a buffer.\u001b[0m\n",
       "\u001b[0;34m\u001b[0m\n",
       "\u001b[0;34m    In its simplest form, this function takes three arguments\u001b[0m\n",
       "\u001b[0;34m    (mode, size, and unpacked pixel data).\u001b[0m\n",
       "\u001b[0;34m\u001b[0m\n",
       "\u001b[0;34m    You can also use any pixel decoder supported by PIL.  For more\u001b[0m\n",
       "\u001b[0;34m    information on available decoders, see the section\u001b[0m\n",
       "\u001b[0;34m    :ref:`Writing Your Own File Decoder <file-decoders>`.\u001b[0m\n",
       "\u001b[0;34m\u001b[0m\n",
       "\u001b[0;34m    Note that this function decodes pixel data only, not entire images.\u001b[0m\n",
       "\u001b[0;34m    If you have an entire image in a string, wrap it in a\u001b[0m\n",
       "\u001b[0;34m    :py:class:`~io.BytesIO` object, and use :py:func:`~PIL.Image.open` to load\u001b[0m\n",
       "\u001b[0;34m    it.\u001b[0m\n",
       "\u001b[0;34m\u001b[0m\n",
       "\u001b[0;34m    :param mode: The image mode. See: :ref:`concept-modes`.\u001b[0m\n",
       "\u001b[0;34m    :param size: The image size.\u001b[0m\n",
       "\u001b[0;34m    :param data: A byte buffer containing raw data for the given mode.\u001b[0m\n",
       "\u001b[0;34m    :param decoder_name: What decoder to use.\u001b[0m\n",
       "\u001b[0;34m    :param args: Additional parameters for the given decoder.\u001b[0m\n",
       "\u001b[0;34m    :returns: An :py:class:`~PIL.Image.Image` object.\u001b[0m\n",
       "\u001b[0;34m    \"\"\"\u001b[0m\u001b[0;34m\u001b[0m\n",
       "\u001b[0;34m\u001b[0m\u001b[0;34m\u001b[0m\n",
       "\u001b[0;34m\u001b[0m    \u001b[0m_check_size\u001b[0m\u001b[0;34m(\u001b[0m\u001b[0msize\u001b[0m\u001b[0;34m)\u001b[0m\u001b[0;34m\u001b[0m\n",
       "\u001b[0;34m\u001b[0m\u001b[0;34m\u001b[0m\n",
       "\u001b[0;34m\u001b[0m    \u001b[0;31m# may pass tuple instead of argument list\u001b[0m\u001b[0;34m\u001b[0m\n",
       "\u001b[0;34m\u001b[0m    \u001b[0;32mif\u001b[0m \u001b[0mlen\u001b[0m\u001b[0;34m(\u001b[0m\u001b[0margs\u001b[0m\u001b[0;34m)\u001b[0m \u001b[0;34m==\u001b[0m \u001b[0;36m1\u001b[0m \u001b[0;32mand\u001b[0m \u001b[0misinstance\u001b[0m\u001b[0;34m(\u001b[0m\u001b[0margs\u001b[0m\u001b[0;34m[\u001b[0m\u001b[0;36m0\u001b[0m\u001b[0;34m]\u001b[0m\u001b[0;34m,\u001b[0m \u001b[0mtuple\u001b[0m\u001b[0;34m)\u001b[0m\u001b[0;34m:\u001b[0m\u001b[0;34m\u001b[0m\n",
       "\u001b[0;34m\u001b[0m        \u001b[0margs\u001b[0m \u001b[0;34m=\u001b[0m \u001b[0margs\u001b[0m\u001b[0;34m[\u001b[0m\u001b[0;36m0\u001b[0m\u001b[0;34m]\u001b[0m\u001b[0;34m\u001b[0m\n",
       "\u001b[0;34m\u001b[0m\u001b[0;34m\u001b[0m\n",
       "\u001b[0;34m\u001b[0m    \u001b[0;32mif\u001b[0m \u001b[0mdecoder_name\u001b[0m \u001b[0;34m==\u001b[0m \u001b[0;34m\"raw\"\u001b[0m \u001b[0;32mand\u001b[0m \u001b[0margs\u001b[0m \u001b[0;34m==\u001b[0m \u001b[0;34m(\u001b[0m\u001b[0;34m)\u001b[0m\u001b[0;34m:\u001b[0m\u001b[0;34m\u001b[0m\n",
       "\u001b[0;34m\u001b[0m        \u001b[0margs\u001b[0m \u001b[0;34m=\u001b[0m \u001b[0mmode\u001b[0m\u001b[0;34m\u001b[0m\n",
       "\u001b[0;34m\u001b[0m\u001b[0;34m\u001b[0m\n",
       "\u001b[0;34m\u001b[0m    \u001b[0mim\u001b[0m \u001b[0;34m=\u001b[0m \u001b[0mnew\u001b[0m\u001b[0;34m(\u001b[0m\u001b[0mmode\u001b[0m\u001b[0;34m,\u001b[0m \u001b[0msize\u001b[0m\u001b[0;34m)\u001b[0m\u001b[0;34m\u001b[0m\n",
       "\u001b[0;34m\u001b[0m    \u001b[0mim\u001b[0m\u001b[0;34m.\u001b[0m\u001b[0mfrombytes\u001b[0m\u001b[0;34m(\u001b[0m\u001b[0mdata\u001b[0m\u001b[0;34m,\u001b[0m \u001b[0mdecoder_name\u001b[0m\u001b[0;34m,\u001b[0m \u001b[0margs\u001b[0m\u001b[0;34m)\u001b[0m\u001b[0;34m\u001b[0m\n",
       "\u001b[0;34m\u001b[0m    \u001b[0;32mreturn\u001b[0m \u001b[0mim\u001b[0m\u001b[0;34m\u001b[0m\u001b[0;34m\u001b[0m\u001b[0m\n",
       "\u001b[0;31mFile:\u001b[0m      ~/anaconda3/envs/detectron/lib/python3.8/site-packages/PIL/Image.py\n",
       "\u001b[0;31mType:\u001b[0m      function\n"
      ]
     },
     "metadata": {},
     "output_type": "display_data"
    }
   ],
   "source": [
    "??Image.frombytes"
   ]
  },
  {
   "cell_type": "code",
   "execution_count": null,
   "metadata": {},
   "outputs": [],
   "source": []
  }
 ],
 "metadata": {
  "kernelspec": {
   "display_name": "Python [conda env:detectron]",
   "language": "python",
   "name": "conda-env-detectron-py"
  },
  "language_info": {
   "codemirror_mode": {
    "name": "ipython",
    "version": 3
   },
   "file_extension": ".py",
   "mimetype": "text/x-python",
   "name": "python",
   "nbconvert_exporter": "python",
   "pygments_lexer": "ipython3",
   "version": "3.8.2"
  }
 },
 "nbformat": 4,
 "nbformat_minor": 4
}
